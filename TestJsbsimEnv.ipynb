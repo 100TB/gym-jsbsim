{
 "cells": [
  {
   "cell_type": "markdown",
   "metadata": {},
   "source": [
    "# Set the JSBSIM_ROOT_DIR variable\n",
    "Already set in .bashrc but not read for some reasons when launching the notebook from the session."
   ]
  },
  {
   "cell_type": "code",
   "execution_count": 1,
   "metadata": {},
   "outputs": [],
   "source": [
    "import os\n",
    "os.environ['JSBSIM_ROOT_DIR'] = '/home/ubuntu/jsbsim-JSBSim-trusty-v2018a'\n",
    "os.environ['OPENAI_LOGDIR'] = '/home/ubuntu/logs'\n",
    "os.environ['OPENAI_LOG_FORMAT'] = 'stdout,tensorboard'"
   ]
  },
  {
   "cell_type": "markdown",
   "metadata": {},
   "source": [
    "# Imports"
   ]
  },
  {
   "cell_type": "code",
   "execution_count": 2,
   "metadata": {},
   "outputs": [
    {
     "name": "stdout",
     "output_type": "stream",
     "text": [
      "\n",
      "/home/ubuntu/src/cntk/bindings/python\n",
      "/home/ubuntu/anaconda3/envs/tensorflow_p36/lib/python36.zip\n",
      "/home/ubuntu/anaconda3/envs/tensorflow_p36/lib/python3.6\n",
      "/home/ubuntu/anaconda3/envs/tensorflow_p36/lib/python3.6/lib-dynload\n",
      "/home/ubuntu/anaconda3/envs/tensorflow_p36/lib/python3.6/site-packages\n",
      "/home/ubuntu/gym-jsbsim\n",
      "/home/ubuntu/anaconda3/envs/tensorflow_p36/lib/python3.6/site-packages/IPython/extensions\n",
      "/home/ubuntu/.ipython\n"
     ]
    }
   ],
   "source": [
    "import sys\n",
    "print ('\\n'.join(sys.path))\n",
    "\n",
    "import gym\n",
    "import numpy as np\n",
    "\n",
    "import argparse\n",
    "\n",
    "import jsbsim\n",
    "import gym_jsbsim\n",
    "\n",
    "from stable_baselines.ddpg.policies import MlpPolicy\n",
    "from stable_baselines.common.vec_env import DummyVecEnv\n",
    "from stable_baselines.ddpg.noise import NormalActionNoise, OrnsteinUhlenbeckActionNoise, AdaptiveParamNoiseSpec\n",
    "from stable_baselines import DDPG\n",
    "from stable_baselines import logger"
   ]
  },
  {
   "cell_type": "markdown",
   "metadata": {},
   "source": [
    "# Logging"
   ]
  },
  {
   "cell_type": "code",
   "execution_count": 3,
   "metadata": {},
   "outputs": [
    {
     "name": "stdout",
     "output_type": "stream",
     "text": [
      "Logging to /home/ubuntu/logs\n"
     ]
    }
   ],
   "source": [
    "def loggingFunction(dict1, dict2):\n",
    "    print(dict1[\"action\"])\n",
    "    print(\"\\n-----\\n\")\n",
    "    print(dict1[\"new_obs\"])\n",
    "    print(\"\\n-----\\n\")\n",
    "    print(dict1[\"reward\"])\n",
    "\n",
    "    return\n",
    "\n",
    "# Necessary for it to generate tensorboard log files during the run.  Note that\n",
    "# in the docker file I set OPENAI_LOGDIR and OPENAI_LOG_FORMAT environment variables\n",
    "# to generate the kind of logs that I want.\n",
    "logger.configure()"
   ]
  },
  {
   "cell_type": "markdown",
   "metadata": {},
   "source": [
    "# Environment setup"
   ]
  },
  {
   "cell_type": "code",
   "execution_count": 4,
   "metadata": {},
   "outputs": [
    {
     "data": {
      "text/plain": [
       "<Figure size 600x1100 with 4 Axes>"
      ]
     },
     "metadata": {},
     "output_type": "display_data"
    }
   ],
   "source": [
    "env = gym.make('JSBSim-HeadingControlTask-Cessna172P-NoFG-v0')\n",
    "env = DummyVecEnv([lambda: env])\n",
    "env.reset()\n",
    "env.render(mode=\"human\")"
   ]
  },
  {
   "cell_type": "markdown",
   "metadata": {},
   "source": [
    "# Train"
   ]
  },
  {
   "cell_type": "code",
   "execution_count": null,
   "metadata": {},
   "outputs": [
    {
     "name": "stdout",
     "output_type": "stream",
     "text": [
      "-------------------------------------\n",
      "| obs_rms_mean           | 564      |\n",
      "| obs_rms_std            | 52.8     |\n",
      "| reference_Q_mean       | -0.701   |\n",
      "| reference_Q_std        | 0.421    |\n",
      "| reference_action_mean  | 0.215    |\n",
      "| reference_action_std   | 0.508    |\n",
      "| reference_actor_Q_mean | -0.686   |\n",
      "| reference_actor_Q_std  | 0.415    |\n",
      "| rollout/Q_mean         | -0.527   |\n",
      "| rollout/actions_mean   | 0.0793   |\n",
      "| rollout/actions_std    | 0.492    |\n",
      "| rollout/episode_steps  | 52.7     |\n",
      "| rollout/episodes       | 189      |\n",
      "| rollout/return         | -11.6    |\n",
      "| rollout/return_history | -9.08    |\n",
      "| total/duration         | 63.2     |\n",
      "| total/episodes         | 189      |\n",
      "| total/epochs           | 1        |\n",
      "| total/steps            | 9998     |\n",
      "| total/steps_per_second | 158      |\n",
      "| train/loss_actor       | 0.706    |\n",
      "| train/loss_critic      | 0.00564  |\n",
      "-------------------------------------\n",
      "\n",
      "-------------------------------------\n",
      "| obs_rms_mean           | 565      |\n",
      "| obs_rms_std            | 51.7     |\n",
      "| reference_Q_mean       | -1.18    |\n",
      "| reference_Q_std        | 0.577    |\n",
      "| reference_action_mean  | 0.0615   |\n",
      "| reference_action_std   | 0.607    |\n",
      "| reference_actor_Q_mean | -1.15    |\n",
      "| reference_actor_Q_std  | 0.523    |\n",
      "| rollout/Q_mean         | -0.828   |\n",
      "| rollout/actions_mean   | 0.075    |\n",
      "| rollout/actions_std    | 0.475    |\n",
      "| rollout/episode_steps  | 60.1     |\n",
      "| rollout/episodes       | 331      |\n",
      "| rollout/return         | -12.7    |\n",
      "| rollout/return_history | -17.3    |\n",
      "| total/duration         | 125      |\n",
      "| total/episodes         | 331      |\n",
      "| total/epochs           | 1        |\n",
      "| total/steps            | 19998    |\n",
      "| total/steps_per_second | 159      |\n",
      "| train/loss_actor       | 0.977    |\n",
      "| train/loss_critic      | 0.00835  |\n",
      "-------------------------------------\n",
      "\n",
      "-------------------------------------\n",
      "| obs_rms_mean           | 568      |\n",
      "| obs_rms_std            | 53.5     |\n",
      "| reference_Q_mean       | -1.75    |\n",
      "| reference_Q_std        | 0.676    |\n",
      "| reference_action_mean  | -0.0485  |\n",
      "| reference_action_std   | 0.717    |\n",
      "| reference_actor_Q_mean | -1.56    |\n",
      "| reference_actor_Q_std  | 0.641    |\n",
      "| rollout/Q_mean         | -0.913   |\n",
      "| rollout/actions_mean   | 0.105    |\n",
      "| rollout/actions_std    | 0.442    |\n",
      "| rollout/episode_steps  | 71.6     |\n",
      "| rollout/episodes       | 415      |\n",
      "| rollout/return         | -13.5    |\n",
      "| rollout/return_history | -17.1    |\n",
      "| total/duration         | 187      |\n",
      "| total/episodes         | 415      |\n",
      "| total/epochs           | 1        |\n",
      "| total/steps            | 29998    |\n",
      "| total/steps_per_second | 161      |\n",
      "| train/loss_actor       | 1.21     |\n",
      "| train/loss_critic      | 0.00112  |\n",
      "-------------------------------------\n",
      "\n",
      "-------------------------------------\n",
      "| obs_rms_mean           | 573      |\n",
      "| obs_rms_std            | 55.9     |\n",
      "| reference_Q_mean       | -1.86    |\n",
      "| reference_Q_std        | 0.581    |\n",
      "| reference_action_mean  | -0.294   |\n",
      "| reference_action_std   | 0.594    |\n",
      "| reference_actor_Q_mean | -1.81    |\n",
      "| reference_actor_Q_std  | 0.544    |\n",
      "| rollout/Q_mean         | -1.14    |\n",
      "| rollout/actions_mean   | 0.077    |\n",
      "| rollout/actions_std    | 0.481    |\n",
      "| rollout/episode_steps  | 78.3     |\n",
      "| rollout/episodes       | 507      |\n",
      "| rollout/return         | -14.6    |\n",
      "| rollout/return_history | -20.7    |\n",
      "| total/duration         | 248      |\n",
      "| total/episodes         | 507      |\n",
      "| total/epochs           | 1        |\n",
      "| total/steps            | 39998    |\n",
      "| total/steps_per_second | 161      |\n",
      "| train/loss_actor       | 1.11     |\n",
      "| train/loss_critic      | 0.0031   |\n",
      "-------------------------------------\n",
      "\n",
      "-------------------------------------\n",
      "| obs_rms_mean           | 572      |\n",
      "| obs_rms_std            | 55.6     |\n",
      "| reference_Q_mean       | -2.03    |\n",
      "| reference_Q_std        | 0.504    |\n",
      "| reference_action_mean  | 0.086    |\n",
      "| reference_action_std   | 0.692    |\n",
      "| reference_actor_Q_mean | -1.96    |\n",
      "| reference_actor_Q_std  | 0.459    |\n",
      "| rollout/Q_mean         | -1.37    |\n",
      "| rollout/actions_mean   | 0.0333   |\n",
      "| rollout/actions_std    | 0.53     |\n",
      "| rollout/episode_steps  | 71.7     |\n",
      "| rollout/episodes       | 697      |\n",
      "| rollout/return         | -13.6    |\n",
      "| rollout/return_history | -6.83    |\n",
      "| total/duration         | 311      |\n",
      "| total/episodes         | 697      |\n",
      "| total/epochs           | 1        |\n",
      "| total/steps            | 49998    |\n",
      "| total/steps_per_second | 161      |\n",
      "| train/loss_actor       | 1.93     |\n",
      "| train/loss_critic      | 0.00609  |\n",
      "-------------------------------------\n",
      "\n"
     ]
    }
   ],
   "source": [
    "# the noise objects for DDPG\n",
    "n_actions = env.action_space.shape[-1]\n",
    "param_noise = None\n",
    "action_noise = OrnsteinUhlenbeckActionNoise(mean=np.zeros(n_actions), sigma=float(0.5) * np.ones(n_actions))\n",
    "\n",
    "try:\n",
    "    model = DDPG.load(\"model/ddpg_fg_heading\", env=env, tensorboard_log=\"model/tensorboard/\")\n",
    "    model.set_env( env )\n",
    "\n",
    "except ValueError:  # Model doesn't exist\n",
    "\n",
    "    model = DDPG(MlpPolicy, env, verbose=1, param_noise=param_noise, action_noise=action_noise, normalize_observations=True, tensorboard_log=\"model/tensorboard/\")\n",
    "\n",
    "while True:\n",
    "    #model.learn(callback=loggingFunction, total_timesteps=1e6)\n",
    "    model.learn(total_timesteps=1e6)\n",
    "    model.save(\"model/ddpg_fg_heading\")"
   ]
  },
  {
   "cell_type": "code",
   "execution_count": null,
   "metadata": {},
   "outputs": [],
   "source": []
  }
 ],
 "metadata": {
  "kernelspec": {
   "display_name": "Environment (conda_tensorflow_p36)",
   "language": "python",
   "name": "conda_tensorflow_p36"
  },
  "language_info": {
   "codemirror_mode": {
    "name": "ipython",
    "version": 3
   },
   "file_extension": ".py",
   "mimetype": "text/x-python",
   "name": "python",
   "nbconvert_exporter": "python",
   "pygments_lexer": "ipython3",
   "version": "3.6.5"
  }
 },
 "nbformat": 4,
 "nbformat_minor": 2
}
